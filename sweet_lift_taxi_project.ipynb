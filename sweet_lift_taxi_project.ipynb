{
 "cells": [
  {
   "cell_type": "markdown",
   "metadata": {},
   "source": [
    "# Descripción del proyecto\n",
    "\n",
    "La compañía Sweet Lift Taxi ha recopilado datos históricos sobre pedidos de taxis en los aeropuertos. Para atraer a más conductores durante las horas pico, necesitamos predecir la cantidad de pedidos de taxis para la próxima hora. Construye un modelo para dicha predicción.\n",
    "\n",
    "La métrica RECM en el conjunto de prueba no debe ser superior a 48."
   ]
  },
  {
   "cell_type": "markdown",
   "metadata": {},
   "source": [
    "## Instrucciones del proyecto\n",
    "\n",
    "- Descarga los datos y haz el remuestreo por una hora.\n",
    "- Analiza los datos\n",
    "- Entrena diferentes modelos con diferentes hiperparámetros. La muestra de prueba debe ser el 10% del conjunto de datos inicial.\n",
    "- Prueba los datos usando la muestra de prueba y proporciona una conclusión."
   ]
  },
  {
   "cell_type": "markdown",
   "metadata": {},
   "source": [
    "## Descripción de los datos\n",
    "\n",
    "- Los datos se almacenan en el archivo `taxi.csv`. \t\n",
    "- El número de pedidos está en la columna `num_orders`."
   ]
  },
  {
   "cell_type": "markdown",
   "metadata": {},
   "source": [
    "## Preprocesamiento de datos"
   ]
  },
  {
   "cell_type": "code",
   "execution_count": 1,
   "metadata": {},
   "outputs": [],
   "source": [
    "import pandas as pd\n",
    "import numpy as np\n",
    "import matplotlib.pyplot as plt\n",
    "import seaborn as sns\n",
    "from statsmodels.tsa.seasonal import seasonal_decompose\n",
    "from sklearn.model_selection import train_test_split\n",
    "from sklearn.linear_model import LinearRegression\n",
    "from sklearn.ensemble import RandomForestRegressor\n",
    "from sklearn.tree import DecisionTreeRegressor\n",
    "import lightgbm as lgb\n",
    "from sklearn.metrics import mean_squared_error"
   ]
  },
  {
   "cell_type": "code",
   "execution_count": 2,
   "metadata": {},
   "outputs": [],
   "source": [
    "df = pd.read_csv('/datasets/taxi.csv', parse_dates = True, index_col = 'datetime')"
   ]
  },
  {
   "cell_type": "code",
   "execution_count": 3,
   "metadata": {},
   "outputs": [
    {
     "data": {
      "text/html": [
       "<div>\n",
       "<style scoped>\n",
       "    .dataframe tbody tr th:only-of-type {\n",
       "        vertical-align: middle;\n",
       "    }\n",
       "\n",
       "    .dataframe tbody tr th {\n",
       "        vertical-align: top;\n",
       "    }\n",
       "\n",
       "    .dataframe thead th {\n",
       "        text-align: right;\n",
       "    }\n",
       "</style>\n",
       "<table border=\"1\" class=\"dataframe\">\n",
       "  <thead>\n",
       "    <tr style=\"text-align: right;\">\n",
       "      <th></th>\n",
       "      <th>num_orders</th>\n",
       "    </tr>\n",
       "    <tr>\n",
       "      <th>datetime</th>\n",
       "      <th></th>\n",
       "    </tr>\n",
       "  </thead>\n",
       "  <tbody>\n",
       "    <tr>\n",
       "      <th>2018-03-01 00:00:00</th>\n",
       "      <td>9</td>\n",
       "    </tr>\n",
       "    <tr>\n",
       "      <th>2018-03-01 00:10:00</th>\n",
       "      <td>14</td>\n",
       "    </tr>\n",
       "    <tr>\n",
       "      <th>2018-03-01 00:20:00</th>\n",
       "      <td>28</td>\n",
       "    </tr>\n",
       "    <tr>\n",
       "      <th>2018-03-01 00:30:00</th>\n",
       "      <td>20</td>\n",
       "    </tr>\n",
       "    <tr>\n",
       "      <th>2018-03-01 00:40:00</th>\n",
       "      <td>32</td>\n",
       "    </tr>\n",
       "  </tbody>\n",
       "</table>\n",
       "</div>"
      ],
      "text/plain": [
       "                     num_orders\n",
       "datetime                       \n",
       "2018-03-01 00:00:00           9\n",
       "2018-03-01 00:10:00          14\n",
       "2018-03-01 00:20:00          28\n",
       "2018-03-01 00:30:00          20\n",
       "2018-03-01 00:40:00          32"
      ]
     },
     "execution_count": 3,
     "metadata": {},
     "output_type": "execute_result"
    }
   ],
   "source": [
    "df.head()"
   ]
  },
  {
   "cell_type": "code",
   "execution_count": 4,
   "metadata": {},
   "outputs": [
    {
     "data": {
      "text/plain": [
       "26415"
      ]
     },
     "execution_count": 4,
     "metadata": {},
     "output_type": "execute_result"
    }
   ],
   "source": [
    "df.duplicated().sum()"
   ]
  },
  {
   "cell_type": "code",
   "execution_count": 5,
   "metadata": {
    "scrolled": true
   },
   "outputs": [
    {
     "name": "stdout",
     "output_type": "stream",
     "text": [
      "<class 'pandas.core.frame.DataFrame'>\n",
      "DatetimeIndex: 26496 entries, 2018-03-01 00:00:00 to 2018-08-31 23:50:00\n",
      "Data columns (total 1 columns):\n",
      " #   Column      Non-Null Count  Dtype\n",
      "---  ------      --------------  -----\n",
      " 0   num_orders  26496 non-null  int64\n",
      "dtypes: int64(1)\n",
      "memory usage: 414.0 KB\n"
     ]
    }
   ],
   "source": [
    "df.info()"
   ]
  },
  {
   "cell_type": "markdown",
   "metadata": {},
   "source": [
    "### Primeras observaciones frente a la base de datos:"
   ]
  },
  {
   "cell_type": "markdown",
   "metadata": {},
   "source": [
    "Tras un sondeo rápido podemos observar que no hay datos ausentes, ni duplicados (estos se mostraron tras hacer cambios en la columna datetime), pero si nos encontramos con que la columna datetime no está en el tipo adecuado. Se hará el cambio desde la segunda línea de código. \n",
    "\n",
    "Además, podemos observar que los intervalos de tiempo están a 10 minutos. \n"
   ]
  },
  {
   "cell_type": "markdown",
   "metadata": {},
   "source": [
    "## Análisis de los datos"
   ]
  },
  {
   "cell_type": "code",
   "execution_count": 6,
   "metadata": {},
   "outputs": [
    {
     "name": "stdout",
     "output_type": "stream",
     "text": [
      "True\n"
     ]
    }
   ],
   "source": [
    "# Revisión del orden de los datos. \n",
    "\n",
    "df.sort_index(inplace=True)\n",
    "\n",
    "print(df.index.is_monotonic)"
   ]
  },
  {
   "cell_type": "code",
   "execution_count": 7,
   "metadata": {
    "scrolled": false
   },
   "outputs": [
    {
     "data": {
      "image/png": "[encoded data removed]",
      "text/plain": [
       "<Figure size 640x480 with 1 Axes>"
      ]
     },
     "metadata": {},
     "output_type": "display_data"
    }
   ],
   "source": [
    "df.plot()\n",
    "plt.title('Orders history')\n",
    "plt.show()"
   ]
  },
  {
   "cell_type": "code",
   "execution_count": 8,
   "metadata": {
    "scrolled": true
   },
   "outputs": [
    {
     "data": {
      "text/html": [
       "<div>\n",
       "<style scoped>\n",
       "    .dataframe tbody tr th:only-of-type {\n",
       "        vertical-align: middle;\n",
       "    }\n",
       "\n",
       "    .dataframe tbody tr th {\n",
       "        vertical-align: top;\n",
       "    }\n",
       "\n",
       "    .dataframe thead th {\n",
       "        text-align: right;\n",
       "    }\n",
       "</style>\n",
       "<table border=\"1\" class=\"dataframe\">\n",
       "  <thead>\n",
       "    <tr style=\"text-align: right;\">\n",
       "      <th></th>\n",
       "      <th>num_orders</th>\n",
       "    </tr>\n",
       "    <tr>\n",
       "      <th>datetime</th>\n",
       "      <th></th>\n",
       "    </tr>\n",
       "  </thead>\n",
       "  <tbody>\n",
       "    <tr>\n",
       "      <th>2018-06-27 04:00:00</th>\n",
       "      <td>121</td>\n",
       "    </tr>\n",
       "    <tr>\n",
       "      <th>2018-05-13 17:00:00</th>\n",
       "      <td>117</td>\n",
       "    </tr>\n",
       "    <tr>\n",
       "      <th>2018-07-03 00:00:00</th>\n",
       "      <td>149</td>\n",
       "    </tr>\n",
       "    <tr>\n",
       "      <th>2018-03-09 23:00:00</th>\n",
       "      <td>49</td>\n",
       "    </tr>\n",
       "    <tr>\n",
       "      <th>2018-06-23 03:00:00</th>\n",
       "      <td>126</td>\n",
       "    </tr>\n",
       "  </tbody>\n",
       "</table>\n",
       "</div>"
      ],
      "text/plain": [
       "                     num_orders\n",
       "datetime                       \n",
       "2018-06-27 04:00:00         121\n",
       "2018-05-13 17:00:00         117\n",
       "2018-07-03 00:00:00         149\n",
       "2018-03-09 23:00:00          49\n",
       "2018-06-23 03:00:00         126"
      ]
     },
     "execution_count": 8,
     "metadata": {},
     "output_type": "execute_result"
    }
   ],
   "source": [
    "# Remuestreo por hora: \n",
    "\n",
    "df = df.resample('1H').sum()\n",
    "\n",
    "df.sample(5)"
   ]
  },
  {
   "cell_type": "code",
   "execution_count": 9,
   "metadata": {
    "scrolled": false
   },
   "outputs": [
    {
     "data": {
      "image/png": "[encoded data removed]",
      "text/plain": [
       "<Figure size 640x480 with 1 Axes>"
      ]
     },
     "metadata": {},
     "output_type": "display_data"
    }
   ],
   "source": [
    "df.plot()\n",
    "plt.title('Orders per hour from March to August 2018')\n",
    "plt.show()"
   ]
  },
  {
   "cell_type": "code",
   "execution_count": 10,
   "metadata": {
    "scrolled": false
   },
   "outputs": [
    {
     "data": {
      "image/png": "[encoded data removed]",
      "text/plain": [
       "<Figure size 600x800 with 3 Axes>"
      ]
     },
     "metadata": {},
     "output_type": "display_data"
    }
   ],
   "source": [
    "decomposed = seasonal_decompose(df)\n",
    "\n",
    "plt.figure(figsize = (6, 8))\n",
    "\n",
    "plt.subplot(311)\n",
    "decomposed.trend.plot(ax = plt.gca())\n",
    "plt.title('Trend')\n",
    "\n",
    "plt.subplot(312)\n",
    "decomposed.seasonal.plot(ax = plt.gca())\n",
    "plt.title('Seasonality')\n",
    "\n",
    "plt.subplot(313)\n",
    "decomposed.resid.plot(ax = plt.gca())\n",
    "plt.title('Residuals')\n",
    "\n",
    "plt.tight_layout()"
   ]
  },
  {
   "cell_type": "code",
   "execution_count": 11,
   "metadata": {
    "scrolled": false
   },
   "outputs": [
    {
     "name": "stdout",
     "output_type": "stream",
     "text": [
      "                     num_orders  year  month  day  dayofweek  hour  lag_1  \\\n",
      "datetime                                                                    \n",
      "2018-03-01 00:00:00         124  2018      3    1          3     0    NaN   \n",
      "2018-03-01 01:00:00          85  2018      3    1          3     1  124.0   \n",
      "2018-03-01 02:00:00          71  2018      3    1          3     2   85.0   \n",
      "2018-03-01 03:00:00          66  2018      3    1          3     3   71.0   \n",
      "2018-03-01 04:00:00          43  2018      3    1          3     4   66.0   \n",
      "\n",
      "                     lag_2  lag_3  lag_4  ...  lag_22  lag_23  lag_24  lag_25  \\\n",
      "datetime                                  ...                                   \n",
      "2018-03-01 00:00:00    NaN    NaN    NaN  ...     NaN     NaN     NaN     NaN   \n",
      "2018-03-01 01:00:00    NaN    NaN    NaN  ...     NaN     NaN     NaN     NaN   \n",
      "2018-03-01 02:00:00  124.0    NaN    NaN  ...     NaN     NaN     NaN     NaN   \n",
      "2018-03-01 03:00:00   85.0  124.0    NaN  ...     NaN     NaN     NaN     NaN   \n",
      "2018-03-01 04:00:00   71.0   85.0  124.0  ...     NaN     NaN     NaN     NaN   \n",
      "\n",
      "                     lag_26  lag_27  lag_28  lag_29  lag_30  rolling_mean  \n",
      "datetime                                                                   \n",
      "2018-03-01 00:00:00     NaN     NaN     NaN     NaN     NaN           NaN  \n",
      "2018-03-01 01:00:00     NaN     NaN     NaN     NaN     NaN           NaN  \n",
      "2018-03-01 02:00:00     NaN     NaN     NaN     NaN     NaN           NaN  \n",
      "2018-03-01 03:00:00     NaN     NaN     NaN     NaN     NaN           NaN  \n",
      "2018-03-01 04:00:00     NaN     NaN     NaN     NaN     NaN           NaN  \n",
      "\n",
      "[5 rows x 37 columns]\n"
     ]
    }
   ],
   "source": [
    "# Creación de características adicionales:\n",
    "\n",
    "def new_features(data, max_lag, rolling_mean_size):\n",
    "    data['year'] = data.index.year\n",
    "    data['month'] = data.index.month\n",
    "    data['day'] = data.index.day\n",
    "    data['dayofweek'] = data.index.dayofweek\n",
    "    data['hour'] = data.index.hour\n",
    "    \n",
    "    for lag in range(1, max_lag + 1):\n",
    "        data['lag_{}'.format(lag)] = data['num_orders'].shift(lag)\n",
    "        \n",
    "    data['rolling_mean'] = data['num_orders'].shift().rolling(rolling_mean_size).mean()\n",
    "\n",
    "new_features(df, 30, 60)\n",
    "\n",
    "print(df.head())"
   ]
  },
  {
   "cell_type": "code",
   "execution_count": 12,
   "metadata": {
    "scrolled": false
   },
   "outputs": [
    {
     "data": {
      "image/png": "[encoded data removed]",
      "text/plain": [
       "<Figure size 640x480 with 1 Axes>"
      ]
     },
     "metadata": {},
     "output_type": "display_data"
    }
   ],
   "source": [
    "sns.barplot(data = df, x = 'month', hue = 'dayofweek', y = 'num_orders')\n",
    "\n",
    "plt.title('Monthly orders each day of the week')\n",
    "plt.xlabel('Month')\n",
    "plt.ylabel('Num of orders')\n",
    "plt.show()"
   ]
  },
  {
   "cell_type": "code",
   "execution_count": 13,
   "metadata": {},
   "outputs": [
    {
     "data": {
      "image/png": "[encoded data removed]",
      "text/plain": [
       "<Figure size 640x480 with 1 Axes>"
      ]
     },
     "metadata": {},
     "output_type": "display_data"
    }
   ],
   "source": [
    "data_aug =  df[df['month'] == 8]\n",
    "\n",
    "sns.lineplot(data = data_aug, x = 'hour', y = 'num_orders', hue = 'dayofweek')\n",
    "\n",
    "plt.title('August orders per hour each day of the week')\n",
    "plt.xlabel('Hour')\n",
    "plt.ylabel('Num of orders')\n",
    "plt.show()"
   ]
  },
  {
   "cell_type": "markdown",
   "metadata": {},
   "source": [
    "### Conclusiones del análisis de los datos:"
   ]
  },
  {
   "cell_type": "markdown",
   "metadata": {},
   "source": [
    "A partir de las gráficas se puede concluir lo siguiente: \n",
    "- Los datos históricos de los servicios solicitados a Sweet Lift Taxi desde el aeropuerto tienen una tendencia al alza.\n",
    "- No se tienen los suficientes datos para identificar patrones estacionales de los servicios solicitados, ya que los datos van de marzo a agosto. \n",
    "- El mes con mayor cantidad de pedidos es agosto, sin importar el día de la semana, los pedidos de este mes superan a los de cualquier otro. \n",
    "- De los pedidos hechos a Sweet Lift Taxi, el histórico de los servicios solicitados en el mes de agosto demuestra que la menor cantidad de pedidos se dan entre las 5 a.m. y las 7 a.m. sin importar que día de la semana sea; mientras que hay un pico de pedidos en la madrugada de los lunes entre 12 y 3 a.m."
   ]
  },
  {
   "cell_type": "markdown",
   "metadata": {},
   "source": [
    "## Entrenamiento"
   ]
  },
  {
   "cell_type": "code",
   "execution_count": 14,
   "metadata": {},
   "outputs": [],
   "source": [
    "# División de los datos:\n",
    "\n",
    "train, test = train_test_split(df, shuffle = False, test_size = 0.2)\n",
    "\n",
    "test, valid = train_test_split(test, shuffle = False, test_size = 0.5)\n",
    "\n",
    "train = train.dropna()\n"
   ]
  },
  {
   "cell_type": "code",
   "execution_count": 15,
   "metadata": {
    "scrolled": true
   },
   "outputs": [
    {
     "name": "stdout",
     "output_type": "stream",
     "text": [
      "(3472, 37)\n",
      "(442, 37)\n",
      "(442, 37)\n"
     ]
    }
   ],
   "source": [
    "print(train.shape)\n",
    "print(test.shape)\n",
    "print(valid.shape)"
   ]
  },
  {
   "cell_type": "code",
   "execution_count": 16,
   "metadata": {},
   "outputs": [],
   "source": [
    "# Datos para el entrenamiento, validación y la prueba:\n",
    "\n",
    "features_train = train.drop(['num_orders', 'year', 'month', 'day', 'dayofweek', 'hour'], axis = 1)\n",
    "target_train = train['num_orders']\n",
    "\n",
    "features_test = test.drop(['num_orders', 'year', 'month', 'day', 'dayofweek', 'hour'], axis = 1)\n",
    "target_test = test['num_orders']\n",
    "\n",
    "features_valid = valid.drop(['num_orders', 'year', 'month', 'day', 'dayofweek', 'hour'], axis = 1)\n",
    "target_valid = valid['num_orders']"
   ]
  },
  {
   "cell_type": "code",
   "execution_count": 17,
   "metadata": {},
   "outputs": [
    {
     "name": "stdout",
     "output_type": "stream",
     "text": [
      "RECM del mejor modelo en el conjunto de validación: 51.32128480237241 n_estimators: 50 best_depth: 10\n"
     ]
    }
   ],
   "source": [
    "# Elección de paramétros para Bosque aleatorio\n",
    "\n",
    "best_error = 10000 \n",
    "\n",
    "best_est = 0\n",
    "\n",
    "best_depth = 0\n",
    "\n",
    "for est in range(10, 51, 10):\n",
    "    for depth in range (1, 11):\n",
    "        model_rf = RandomForestRegressor(random_state = 66, n_estimators = est, max_depth = depth)\n",
    "        model_rf.fit(features_train, target_train)\n",
    "        pred_valid = model_rf.predict(features_valid)\n",
    "        RECM_valid_rf = mean_squared_error(target_valid, pred_valid) ** 0.5\n",
    "\n",
    "        if RECM_valid_rf < best_error:\n",
    "            best_error = RECM_valid_rf\n",
    "            best_est = est\n",
    "            best_depth = depth\n",
    "\n",
    "print(\"RECM del mejor modelo en el conjunto de validación:\", best_error, \n",
    "      \"n_estimators:\", best_est, \"best_depth:\", best_depth)"
   ]
  },
  {
   "cell_type": "markdown",
   "metadata": {},
   "source": [
    "El modelo número 1 de Bosque aleatorio sobrepasó la RECM propuesta en el ejercicio, es por ello que se descarta el modelo para implementarse en el conjunto de prueba. "
   ]
  },
  {
   "cell_type": "code",
   "execution_count": 19,
   "metadata": {},
   "outputs": [
    {
     "name": "stdout",
     "output_type": "stream",
     "text": [
      "RECM del mejor modelo en el conjunto de validación es (max_depth = 7): 54.802693422346366\n"
     ]
    }
   ],
   "source": [
    "# Elección de parámetros para Árbol de dicisión\n",
    "\n",
    "best_model = None\n",
    "\n",
    "best_result = 10000\n",
    "\n",
    "best_depth = 0\n",
    "\n",
    "for depth in range(1, 20): \n",
    "    model_dt = DecisionTreeRegressor(max_depth = depth, random_state = 66) \n",
    "    model_dt.fit(features_train, target_train)\n",
    "    pred_valid = model_dt.predict(features_valid)\n",
    "    RECM_valid_dt = mean_squared_error(target_valid, pred_valid) ** 0.5\n",
    "    \n",
    "    if RECM_valid_dt < best_result:\n",
    "        best_model = model_dt\n",
    "        best_result = RECM_valid_dt\n",
    "        best_depth = depth\n",
    "\n",
    "print(f\"RECM del mejor modelo en el conjunto de validación es (max_depth = {best_depth}): {best_result}\")"
   ]
  },
  {
   "cell_type": "markdown",
   "metadata": {},
   "source": [
    "El modelo número 2 de Árbol de decisión sobrepasó la RECM propuesta en el ejercicio, es por ello que se descarta el modelo para implementarse en el conjunto de prueba. "
   ]
  },
  {
   "cell_type": "code",
   "execution_count": 21,
   "metadata": {},
   "outputs": [
    {
     "name": "stdout",
     "output_type": "stream",
     "text": [
      "RECM para el conjunto de validación: 45.17\n"
     ]
    }
   ],
   "source": [
    "# Modelo 3: Regresión lineal\n",
    "\n",
    "model_lr = LinearRegression()\n",
    "\n",
    "model_lr.fit(features_train, target_train)\n",
    "\n",
    "pred_valid_lr = model_lr.predict(features_valid)\n",
    "\n",
    "RECM_valid_lr = mean_squared_error(target_valid, pred_valid_lr) ** 0.5\n",
    "\n",
    "print(\"RECM para el conjunto de validación:\", (RECM_valid_lr).round(2))"
   ]
  },
  {
   "cell_type": "markdown",
   "metadata": {},
   "source": [
    "El modelo 3 de Regresión Lineal es el único que cumplió con la RECM de 48, así que se procederá a implementar el modelo en el conjunto de datos de prueba. "
   ]
  },
  {
   "cell_type": "code",
   "execution_count": 22,
   "metadata": {},
   "outputs": [
    {
     "name": "stdout",
     "output_type": "stream",
     "text": [
      "RECM para el conjunto de prueba: 33.86\n"
     ]
    }
   ],
   "source": [
    "# Modelo Nº 3 implementado en el conjunto de prueba. \n",
    "\n",
    "pred_test_lr = model_lr.predict(features_test)\n",
    "\n",
    "RECM_test_lr = mean_squared_error(target_test, pred_test_lr) ** 0.5\n",
    "\n",
    "print(\"RECM para el conjunto de prueba:\", (RECM_test_lr).round(2))"
   ]
  },
  {
   "cell_type": "code",
   "execution_count": 23,
   "metadata": {
    "scrolled": false
   },
   "outputs": [
    {
     "name": "stdout",
     "output_type": "stream",
     "text": [
      "[LightGBM] [Info] Total Bins 5524\n",
      "[LightGBM] [Info] Number of data points in the train set: 3472, number of used features: 31\n",
      "[LightGBM] [Info] Start training from score 74.568260\n",
      "Training until validation scores don't improve for 5 rounds\n",
      "Did not meet early stopping. Best iteration is:\n",
      "[19]\tvalid_0's l2: 1345.15\n",
      "RECM para el conjunto de prueba: 36.676318756417\n"
     ]
    }
   ],
   "source": [
    "# Refuerzo de gradiente con LightGBM\n",
    "\n",
    "train_data = lgb.Dataset(features_train, label = target_train)\n",
    "\n",
    "test_data = lgb.Dataset(features_test, label = target_test, reference = train_data)\n",
    "\n",
    "params = {\n",
    "    \"objective\": 'regression',\n",
    "    \"boosting\": 'rf',\n",
    "    \"num_leaves\": 31,\n",
    "    \"learning_rate\": 0.1,\n",
    "    \"feature_fraction\": 0.9,\n",
    "    \"bagging_fraction\": 0.8,\n",
    "    \"bagging_freq\": 5,\n",
    "    \"seed\": 23,\n",
    "    \"force_col_wise\":True,\n",
    "}\n",
    "\n",
    "gbm = lgb.train(params, train_data, num_boost_round = 20, valid_sets = test_data, \n",
    "                callbacks = [lgb.early_stopping(stopping_rounds = 5)])\n",
    "\n",
    "predictions_lgb = gbm.predict(features_test, num_iteration = gbm.best_iteration)\n",
    "\n",
    "RECM_test_lgb = mean_squared_error(target_test, predictions_lgb) ** 0.5\n",
    "\n",
    "print(f\"RECM para el conjunto de prueba: {RECM_test_lgb}\")\n",
    "\n"
   ]
  },
  {
   "cell_type": "markdown",
   "metadata": {},
   "source": [
    "El refuerzo de gradiente con los parámetros estipulados no logró mejorar la RECM del modelo Nº 3 en el conjunto de prueba, por lo cual se descarta como propuesta para la compañía Sweet Lift Taxi."
   ]
  },
  {
   "cell_type": "markdown",
   "metadata": {},
   "source": [
    "## Conclusiones"
   ]
  },
  {
   "cell_type": "code",
   "execution_count": 31,
   "metadata": {
    "scrolled": true
   },
   "outputs": [
    {
     "data": {
      "text/html": [
       "<div>\n",
       "<style scoped>\n",
       "    .dataframe tbody tr th:only-of-type {\n",
       "        vertical-align: middle;\n",
       "    }\n",
       "\n",
       "    .dataframe tbody tr th {\n",
       "        vertical-align: top;\n",
       "    }\n",
       "\n",
       "    .dataframe thead th {\n",
       "        text-align: right;\n",
       "    }\n",
       "</style>\n",
       "<table border=\"1\" class=\"dataframe\">\n",
       "  <thead>\n",
       "    <tr style=\"text-align: right;\">\n",
       "      <th></th>\n",
       "      <th>Model</th>\n",
       "      <th>RECM validation</th>\n",
       "      <th>RECM test</th>\n",
       "    </tr>\n",
       "  </thead>\n",
       "  <tbody>\n",
       "    <tr>\n",
       "      <th>0</th>\n",
       "      <td>Random Forest Regressor</td>\n",
       "      <td>51.321285</td>\n",
       "      <td></td>\n",
       "    </tr>\n",
       "    <tr>\n",
       "      <th>1</th>\n",
       "      <td>Decision Tree Regressor</td>\n",
       "      <td>54.802693</td>\n",
       "      <td></td>\n",
       "    </tr>\n",
       "    <tr>\n",
       "      <th>2</th>\n",
       "      <td>Linear Regression</td>\n",
       "      <td>45.174953</td>\n",
       "      <td>33.857419</td>\n",
       "    </tr>\n",
       "    <tr>\n",
       "      <th>3</th>\n",
       "      <td>LightGBM</td>\n",
       "      <td></td>\n",
       "      <td>36.676319</td>\n",
       "    </tr>\n",
       "  </tbody>\n",
       "</table>\n",
       "</div>"
      ],
      "text/plain": [
       "                     Model RECM validation  RECM test\n",
       "0  Random Forest Regressor       51.321285           \n",
       "1  Decision Tree Regressor       54.802693           \n",
       "2        Linear Regression       45.174953  33.857419\n",
       "3                 LightGBM                  36.676319"
      ]
     },
     "execution_count": 31,
     "metadata": {},
     "output_type": "execute_result"
    }
   ],
   "source": [
    "results_table = pd.DataFrame({'Model':['Random Forest Regressor', 'Decision Tree Regressor', 'Linear Regression', 'LightGBM'],\n",
    "                              'RECM validation':[best_error, best_result, RECM_valid_lr, ''], \n",
    "                             'RECM test':['', '', RECM_test_lr, RECM_test_lgb]})\n",
    "\n",
    "results_table\n"
   ]
  },
  {
   "cell_type": "markdown",
   "metadata": {},
   "source": [
    "Tras ejecutar tres modelos y un método de refuerzo de gradiente podemos concluir:\n",
    "- El único modelo que cumplió con la métrica de RECM cuando se puso a prueba en el conjunto de validación fue el modelo de Regresión Lineal.\n",
    "- El modelo con una RECM más baja, y por ende, más adecuado para su implementación en la compañía Sweet Lift Taxi es el **modelo número 3 de Regresión Lineal, con una RECM de tan solo 33.85 horas.**\n",
    "- Si bien el refuerzo de gradiente aplicado cumplió la métrica de RECM del ejercicio, los resultados de los parámetros no lograron superar la RECM del modelo de Regresión Lineal por sí solo. "
   ]
  }
 ],
 "metadata": {
  "ExecuteTimeLog": [
   {
    "duration": 503,
    "start_time": "2024-06-05T18:09:58.833Z"
   },
   {
    "duration": 48,
    "start_time": "2024-06-05T18:10:32.098Z"
   },
   {
    "duration": 19,
    "start_time": "2024-06-05T18:11:13.813Z"
   },
   {
    "duration": 18,
    "start_time": "2024-06-05T18:11:28.897Z"
   },
   {
    "duration": 423,
    "start_time": "2024-06-05T18:21:42.275Z"
   },
   {
    "duration": 5,
    "start_time": "2024-06-05T18:22:03.660Z"
   },
   {
    "duration": 25,
    "start_time": "2024-06-05T18:22:06.618Z"
   },
   {
    "duration": 24,
    "start_time": "2024-06-05T18:22:12.954Z"
   },
   {
    "duration": 5,
    "start_time": "2024-06-05T18:22:18.406Z"
   },
   {
    "duration": 23,
    "start_time": "2024-06-05T18:22:21.332Z"
   },
   {
    "duration": 567,
    "start_time": "2024-06-05T18:22:35.698Z"
   },
   {
    "duration": 39,
    "start_time": "2024-06-05T18:22:36.270Z"
   },
   {
    "duration": 20,
    "start_time": "2024-06-05T18:22:36.323Z"
   },
   {
    "duration": 23,
    "start_time": "2024-06-05T18:22:36.347Z"
   },
   {
    "duration": 59,
    "start_time": "2024-06-05T18:22:36.376Z"
   },
   {
    "duration": 35,
    "start_time": "2024-06-05T18:27:34.046Z"
   },
   {
    "duration": 43,
    "start_time": "2024-06-05T18:27:34.926Z"
   },
   {
    "duration": 36,
    "start_time": "2024-06-05T18:27:36.824Z"
   },
   {
    "duration": 11,
    "start_time": "2024-06-05T18:27:37.435Z"
   },
   {
    "duration": 12,
    "start_time": "2024-06-05T18:27:45.564Z"
   },
   {
    "duration": 33,
    "start_time": "2024-06-05T18:28:11.632Z"
   },
   {
    "duration": 10,
    "start_time": "2024-06-05T18:28:12.419Z"
   },
   {
    "duration": 9,
    "start_time": "2024-06-05T18:28:16.116Z"
   },
   {
    "duration": 19,
    "start_time": "2024-06-05T18:28:17.634Z"
   },
   {
    "duration": 370,
    "start_time": "2024-06-05T18:29:35.962Z"
   },
   {
    "duration": 5,
    "start_time": "2024-06-05T18:29:44.067Z"
   },
   {
    "duration": 50,
    "start_time": "2024-06-05T18:31:14.067Z"
   },
   {
    "duration": 13,
    "start_time": "2024-06-05T18:31:14.744Z"
   },
   {
    "duration": 10,
    "start_time": "2024-06-05T18:31:21.208Z"
   },
   {
    "duration": 20,
    "start_time": "2024-06-05T18:31:22.180Z"
   },
   {
    "duration": 9,
    "start_time": "2024-06-05T18:31:29.195Z"
   },
   {
    "duration": 607,
    "start_time": "2024-06-05T18:31:42.719Z"
   },
   {
    "duration": 49,
    "start_time": "2024-06-05T18:31:43.333Z"
   },
   {
    "duration": 45,
    "start_time": "2024-06-05T18:31:43.387Z"
   },
   {
    "duration": 11,
    "start_time": "2024-06-05T18:31:43.438Z"
   },
   {
    "duration": 19,
    "start_time": "2024-06-05T18:31:43.455Z"
   },
   {
    "duration": 9,
    "start_time": "2024-06-05T18:31:43.524Z"
   },
   {
    "duration": 48,
    "start_time": "2024-06-05T18:34:29.850Z"
   },
   {
    "duration": 5435,
    "start_time": "2024-06-05T18:34:37.567Z"
   },
   {
    "duration": 9,
    "start_time": "2024-06-05T18:37:21.792Z"
   },
   {
    "duration": 34,
    "start_time": "2024-06-05T18:37:29.671Z"
   },
   {
    "duration": 28,
    "start_time": "2024-06-05T18:38:02.336Z"
   },
   {
    "duration": 19,
    "start_time": "2024-06-05T18:38:05.880Z"
   },
   {
    "duration": 16,
    "start_time": "2024-06-05T18:38:56.965Z"
   },
   {
    "duration": 427,
    "start_time": "2024-06-05T18:39:13.913Z"
   },
   {
    "duration": 18,
    "start_time": "2024-06-05T19:03:32.016Z"
   },
   {
    "duration": 377,
    "start_time": "2024-06-05T19:03:35.601Z"
   },
   {
    "duration": 447,
    "start_time": "2024-06-05T21:58:43.097Z"
   },
   {
    "duration": 48,
    "start_time": "2024-06-05T21:58:43.548Z"
   },
   {
    "duration": 20,
    "start_time": "2024-06-05T21:58:43.599Z"
   },
   {
    "duration": 8,
    "start_time": "2024-06-05T21:58:43.633Z"
   },
   {
    "duration": 13,
    "start_time": "2024-06-05T21:58:43.646Z"
   },
   {
    "duration": 5,
    "start_time": "2024-06-05T21:58:43.662Z"
   },
   {
    "duration": 5119,
    "start_time": "2024-06-05T21:58:43.672Z"
   },
   {
    "duration": 16,
    "start_time": "2024-06-05T21:58:48.795Z"
   },
   {
    "duration": 351,
    "start_time": "2024-06-05T21:58:48.834Z"
   },
   {
    "duration": 14,
    "start_time": "2024-06-05T21:59:37.024Z"
   },
   {
    "duration": 12,
    "start_time": "2024-06-05T21:59:47.108Z"
   },
   {
    "duration": 18,
    "start_time": "2024-06-05T22:04:46.279Z"
   },
   {
    "duration": 15,
    "start_time": "2024-06-05T22:04:58.124Z"
   },
   {
    "duration": 14,
    "start_time": "2024-06-05T22:05:15.258Z"
   },
   {
    "duration": 18,
    "start_time": "2024-06-05T22:05:22.473Z"
   },
   {
    "duration": 15,
    "start_time": "2024-06-05T22:05:26.531Z"
   },
   {
    "duration": 15,
    "start_time": "2024-06-05T22:05:29.706Z"
   },
   {
    "duration": 17,
    "start_time": "2024-06-05T22:06:35.014Z"
   },
   {
    "duration": 421,
    "start_time": "2024-06-05T22:06:44.680Z"
   },
   {
    "duration": 42,
    "start_time": "2024-06-05T22:06:45.105Z"
   },
   {
    "duration": 17,
    "start_time": "2024-06-05T22:06:45.150Z"
   },
   {
    "duration": 7,
    "start_time": "2024-06-05T22:06:45.170Z"
   },
   {
    "duration": 13,
    "start_time": "2024-06-05T22:06:45.181Z"
   },
   {
    "duration": 38,
    "start_time": "2024-06-05T22:06:45.197Z"
   },
   {
    "duration": 1118,
    "start_time": "2024-06-05T22:06:45.238Z"
   },
   {
    "duration": 17,
    "start_time": "2024-06-05T22:06:46.360Z"
   },
   {
    "duration": 362,
    "start_time": "2024-06-05T22:06:46.380Z"
   },
   {
    "duration": 23,
    "start_time": "2024-06-05T22:06:46.744Z"
   },
   {
    "duration": 1154,
    "start_time": "2024-06-05T22:08:11.210Z"
   },
   {
    "duration": 32,
    "start_time": "2024-06-05T22:08:12.368Z"
   },
   {
    "duration": 30,
    "start_time": "2024-06-05T22:08:12.403Z"
   },
   {
    "duration": 9,
    "start_time": "2024-06-05T22:08:12.437Z"
   },
   {
    "duration": 13,
    "start_time": "2024-06-05T22:08:12.448Z"
   },
   {
    "duration": 5,
    "start_time": "2024-06-05T22:08:12.464Z"
   },
   {
    "duration": 1173,
    "start_time": "2024-06-05T22:08:12.471Z"
   },
   {
    "duration": 17,
    "start_time": "2024-06-05T22:08:13.647Z"
   },
   {
    "duration": 371,
    "start_time": "2024-06-05T22:08:13.667Z"
   },
   {
    "duration": 21,
    "start_time": "2024-06-05T22:08:14.043Z"
   },
   {
    "duration": 9,
    "start_time": "2024-06-05T22:11:42.962Z"
   },
   {
    "duration": 4,
    "start_time": "2024-06-05T22:11:43.821Z"
   },
   {
    "duration": 6,
    "start_time": "2024-06-05T22:16:08.984Z"
   },
   {
    "duration": 28,
    "start_time": "2024-06-05T22:21:01.797Z"
   },
   {
    "duration": 16,
    "start_time": "2024-06-05T22:23:48.278Z"
   },
   {
    "duration": 18,
    "start_time": "2024-06-05T22:24:10.733Z"
   },
   {
    "duration": 17,
    "start_time": "2024-06-05T22:24:26.926Z"
   },
   {
    "duration": 16,
    "start_time": "2024-06-05T22:25:37.525Z"
   },
   {
    "duration": 18,
    "start_time": "2024-06-05T22:25:46.313Z"
   },
   {
    "duration": 32,
    "start_time": "2024-06-05T22:27:47.568Z"
   },
   {
    "duration": 11041,
    "start_time": "2024-06-05T22:30:53.352Z"
   },
   {
    "duration": 11373,
    "start_time": "2024-06-05T22:31:32.681Z"
   },
   {
    "duration": 11081,
    "start_time": "2024-06-05T22:32:42.468Z"
   },
   {
    "duration": 11029,
    "start_time": "2024-06-05T22:33:01.782Z"
   },
   {
    "duration": 4,
    "start_time": "2024-06-05T22:34:28.585Z"
   },
   {
    "duration": 381,
    "start_time": "2024-06-05T22:36:42.602Z"
   },
   {
    "duration": 1152,
    "start_time": "2024-06-05T22:37:20.292Z"
   },
   {
    "duration": 33,
    "start_time": "2024-06-05T22:37:21.448Z"
   },
   {
    "duration": 15,
    "start_time": "2024-06-05T22:37:21.484Z"
   },
   {
    "duration": 33,
    "start_time": "2024-06-05T22:37:21.503Z"
   },
   {
    "duration": 15,
    "start_time": "2024-06-05T22:37:21.541Z"
   },
   {
    "duration": 5,
    "start_time": "2024-06-05T22:37:21.559Z"
   },
   {
    "duration": 1173,
    "start_time": "2024-06-05T22:37:21.568Z"
   },
   {
    "duration": 16,
    "start_time": "2024-06-05T22:37:22.744Z"
   },
   {
    "duration": 357,
    "start_time": "2024-06-05T22:37:22.763Z"
   },
   {
    "duration": 28,
    "start_time": "2024-06-05T22:37:23.122Z"
   },
   {
    "duration": 10,
    "start_time": "2024-06-05T22:37:23.153Z"
   },
   {
    "duration": 4,
    "start_time": "2024-06-05T22:37:23.166Z"
   },
   {
    "duration": 6,
    "start_time": "2024-06-05T22:37:23.174Z"
   },
   {
    "duration": 544,
    "start_time": "2024-06-05T22:37:23.186Z"
   },
   {
    "duration": 0,
    "start_time": "2024-06-05T22:37:23.733Z"
   },
   {
    "duration": 1,
    "start_time": "2024-06-05T22:37:23.735Z"
   },
   {
    "duration": 1173,
    "start_time": "2024-06-05T22:37:57.895Z"
   },
   {
    "duration": 33,
    "start_time": "2024-06-05T22:37:59.071Z"
   },
   {
    "duration": 28,
    "start_time": "2024-06-05T22:37:59.106Z"
   },
   {
    "duration": 8,
    "start_time": "2024-06-05T22:37:59.139Z"
   },
   {
    "duration": 15,
    "start_time": "2024-06-05T22:37:59.150Z"
   },
   {
    "duration": 5,
    "start_time": "2024-06-05T22:37:59.168Z"
   },
   {
    "duration": 1169,
    "start_time": "2024-06-05T22:37:59.176Z"
   },
   {
    "duration": 20,
    "start_time": "2024-06-05T22:38:00.349Z"
   },
   {
    "duration": 366,
    "start_time": "2024-06-05T22:38:00.373Z"
   },
   {
    "duration": 23,
    "start_time": "2024-06-05T22:38:00.744Z"
   },
   {
    "duration": 10,
    "start_time": "2024-06-05T22:38:00.770Z"
   },
   {
    "duration": 4,
    "start_time": "2024-06-05T22:38:00.783Z"
   },
   {
    "duration": 43,
    "start_time": "2024-06-05T22:38:00.791Z"
   },
   {
    "duration": 11254,
    "start_time": "2024-06-05T22:38:00.838Z"
   },
   {
    "duration": 409,
    "start_time": "2024-06-05T22:38:12.095Z"
   },
   {
    "duration": 32,
    "start_time": "2024-06-05T22:38:12.508Z"
   },
   {
    "duration": 620,
    "start_time": "2024-06-05T22:43:59.554Z"
   },
   {
    "duration": 15,
    "start_time": "2024-06-05T22:45:15.732Z"
   },
   {
    "duration": 12,
    "start_time": "2024-06-05T22:45:52.170Z"
   },
   {
    "duration": 1183,
    "start_time": "2024-06-05T22:46:34.513Z"
   },
   {
    "duration": 47,
    "start_time": "2024-06-05T22:46:35.701Z"
   },
   {
    "duration": 16,
    "start_time": "2024-06-05T22:46:35.750Z"
   },
   {
    "duration": 9,
    "start_time": "2024-06-05T22:46:35.769Z"
   },
   {
    "duration": 49,
    "start_time": "2024-06-05T22:46:35.784Z"
   },
   {
    "duration": 9,
    "start_time": "2024-06-05T22:46:35.837Z"
   },
   {
    "duration": 1169,
    "start_time": "2024-06-05T22:46:35.851Z"
   },
   {
    "duration": 20,
    "start_time": "2024-06-05T22:46:37.023Z"
   },
   {
    "duration": 373,
    "start_time": "2024-06-05T22:46:37.047Z"
   },
   {
    "duration": 33,
    "start_time": "2024-06-05T22:46:37.423Z"
   },
   {
    "duration": 9,
    "start_time": "2024-06-05T22:46:37.459Z"
   },
   {
    "duration": 5,
    "start_time": "2024-06-05T22:46:37.471Z"
   },
   {
    "duration": 7,
    "start_time": "2024-06-05T22:46:37.480Z"
   },
   {
    "duration": 16433,
    "start_time": "2024-06-05T22:46:37.534Z"
   },
   {
    "duration": 951,
    "start_time": "2024-06-05T22:46:53.969Z"
   },
   {
    "duration": 579,
    "start_time": "2024-06-05T22:46:54.924Z"
   },
   {
    "duration": 30,
    "start_time": "2024-06-05T22:46:55.506Z"
   },
   {
    "duration": 96,
    "start_time": "2024-06-05T22:46:55.539Z"
   },
   {
    "duration": 93,
    "start_time": "2024-06-05T22:46:55.640Z"
   },
   {
    "duration": 1163,
    "start_time": "2024-06-05T22:47:32.194Z"
   },
   {
    "duration": 34,
    "start_time": "2024-06-05T22:47:33.360Z"
   },
   {
    "duration": 16,
    "start_time": "2024-06-05T22:47:33.397Z"
   },
   {
    "duration": 8,
    "start_time": "2024-06-05T22:47:33.433Z"
   },
   {
    "duration": 13,
    "start_time": "2024-06-05T22:47:33.446Z"
   },
   {
    "duration": 5,
    "start_time": "2024-06-05T22:47:33.462Z"
   },
   {
    "duration": 1164,
    "start_time": "2024-06-05T22:47:33.469Z"
   },
   {
    "duration": 16,
    "start_time": "2024-06-05T22:47:34.637Z"
   },
   {
    "duration": 376,
    "start_time": "2024-06-05T22:47:34.656Z"
   },
   {
    "duration": 21,
    "start_time": "2024-06-05T22:47:35.035Z"
   },
   {
    "duration": 10,
    "start_time": "2024-06-05T22:47:35.059Z"
   },
   {
    "duration": 5,
    "start_time": "2024-06-05T22:47:35.071Z"
   },
   {
    "duration": 8,
    "start_time": "2024-06-05T22:47:35.079Z"
   },
   {
    "duration": 9737,
    "start_time": "2024-06-05T22:47:35.134Z"
   },
   {
    "duration": 550,
    "start_time": "2024-06-05T22:47:44.877Z"
   },
   {
    "duration": 352,
    "start_time": "2024-06-05T22:47:45.429Z"
   },
   {
    "duration": 15,
    "start_time": "2024-06-05T22:47:45.784Z"
   },
   {
    "duration": 35,
    "start_time": "2024-06-05T22:47:45.802Z"
   },
   {
    "duration": 98,
    "start_time": "2024-06-05T22:47:45.841Z"
   },
   {
    "duration": 1173,
    "start_time": "2024-06-05T22:48:59.260Z"
   },
   {
    "duration": 32,
    "start_time": "2024-06-05T22:49:00.437Z"
   },
   {
    "duration": 16,
    "start_time": "2024-06-05T22:49:00.472Z"
   },
   {
    "duration": 8,
    "start_time": "2024-06-05T22:49:00.492Z"
   },
   {
    "duration": 13,
    "start_time": "2024-06-05T22:49:00.534Z"
   },
   {
    "duration": 5,
    "start_time": "2024-06-05T22:49:00.550Z"
   },
   {
    "duration": 1181,
    "start_time": "2024-06-05T22:49:00.561Z"
   },
   {
    "duration": 17,
    "start_time": "2024-06-05T22:49:01.745Z"
   },
   {
    "duration": 370,
    "start_time": "2024-06-05T22:49:01.765Z"
   },
   {
    "duration": 42,
    "start_time": "2024-06-05T22:49:02.141Z"
   },
   {
    "duration": 12,
    "start_time": "2024-06-05T22:49:02.186Z"
   },
   {
    "duration": 34,
    "start_time": "2024-06-05T22:49:02.201Z"
   },
   {
    "duration": 10,
    "start_time": "2024-06-05T22:49:02.238Z"
   },
   {
    "duration": 39797,
    "start_time": "2024-06-05T22:49:02.251Z"
   },
   {
    "duration": 2320,
    "start_time": "2024-06-05T22:49:42.051Z"
   },
   {
    "duration": 1343,
    "start_time": "2024-06-05T22:49:44.374Z"
   },
   {
    "duration": 36,
    "start_time": "2024-06-05T22:49:45.719Z"
   },
   {
    "duration": 82,
    "start_time": "2024-06-05T22:49:45.758Z"
   },
   {
    "duration": 13,
    "start_time": "2024-06-05T22:49:45.843Z"
   },
   {
    "duration": 1245,
    "start_time": "2024-06-05T22:50:29.916Z"
   },
   {
    "duration": 32,
    "start_time": "2024-06-05T22:50:31.164Z"
   },
   {
    "duration": 15,
    "start_time": "2024-06-05T22:50:31.199Z"
   },
   {
    "duration": 8,
    "start_time": "2024-06-05T22:50:31.234Z"
   },
   {
    "duration": 13,
    "start_time": "2024-06-05T22:50:31.245Z"
   },
   {
    "duration": 5,
    "start_time": "2024-06-05T22:50:31.261Z"
   },
   {
    "duration": 1205,
    "start_time": "2024-06-05T22:50:31.269Z"
   },
   {
    "duration": 19,
    "start_time": "2024-06-05T22:50:32.477Z"
   },
   {
    "duration": 367,
    "start_time": "2024-06-05T22:50:32.500Z"
   },
   {
    "duration": 20,
    "start_time": "2024-06-05T22:50:32.873Z"
   },
   {
    "duration": 40,
    "start_time": "2024-06-05T22:50:32.896Z"
   },
   {
    "duration": 5,
    "start_time": "2024-06-05T22:50:32.940Z"
   },
   {
    "duration": 8,
    "start_time": "2024-06-05T22:50:32.948Z"
   },
   {
    "duration": 9509,
    "start_time": "2024-06-05T22:50:32.960Z"
   },
   {
    "duration": 529,
    "start_time": "2024-06-05T22:50:42.472Z"
   },
   {
    "duration": 332,
    "start_time": "2024-06-05T22:50:43.004Z"
   },
   {
    "duration": 15,
    "start_time": "2024-06-05T22:50:43.338Z"
   },
   {
    "duration": 14,
    "start_time": "2024-06-05T22:50:43.356Z"
   },
   {
    "duration": 61,
    "start_time": "2024-06-05T22:50:43.373Z"
   },
   {
    "duration": 45,
    "start_time": "2024-06-05T22:53:09.140Z"
   },
   {
    "duration": 13,
    "start_time": "2024-06-05T22:53:18.330Z"
   },
   {
    "duration": 5,
    "start_time": "2024-06-05T22:53:19.100Z"
   },
   {
    "duration": 8,
    "start_time": "2024-06-05T22:53:19.863Z"
   },
   {
    "duration": 56507,
    "start_time": "2024-06-05T22:53:20.566Z"
   },
   {
    "duration": 3517,
    "start_time": "2024-06-05T22:54:17.078Z"
   },
   {
    "duration": 1910,
    "start_time": "2024-06-05T22:54:20.598Z"
   },
   {
    "duration": 52,
    "start_time": "2024-06-05T22:54:22.513Z"
   },
   {
    "duration": 87,
    "start_time": "2024-06-05T22:54:22.568Z"
   },
   {
    "duration": 19,
    "start_time": "2024-06-05T22:54:22.735Z"
   },
   {
    "duration": 3276,
    "start_time": "2024-06-05T22:55:07.880Z"
   },
   {
    "duration": 70,
    "start_time": "2024-06-05T22:55:27.505Z"
   },
   {
    "duration": 21,
    "start_time": "2024-06-05T22:55:30.873Z"
   },
   {
    "duration": 2501,
    "start_time": "2024-06-05T22:57:02.952Z"
   },
   {
    "duration": 54944,
    "start_time": "2024-06-05T22:58:33.871Z"
   },
   {
    "duration": 3269,
    "start_time": "2024-06-05T22:59:55.876Z"
   },
   {
    "duration": 74,
    "start_time": "2024-06-05T23:00:12.182Z"
   },
   {
    "duration": 3281,
    "start_time": "2024-06-05T23:00:42.150Z"
   },
   {
    "duration": 70,
    "start_time": "2024-06-05T23:00:46.078Z"
   },
   {
    "duration": 21,
    "start_time": "2024-06-05T23:01:52.991Z"
   },
   {
    "duration": 16,
    "start_time": "2024-06-05T23:02:04.341Z"
   },
   {
    "duration": 10,
    "start_time": "2024-06-05T23:02:12.959Z"
   },
   {
    "duration": 421,
    "start_time": "2024-06-05T23:02:17.774Z"
   },
   {
    "duration": 10,
    "start_time": "2024-06-05T23:02:22.919Z"
   },
   {
    "duration": 1225,
    "start_time": "2024-06-05T23:02:53.149Z"
   },
   {
    "duration": 35,
    "start_time": "2024-06-05T23:02:54.377Z"
   },
   {
    "duration": 28,
    "start_time": "2024-06-05T23:02:54.415Z"
   },
   {
    "duration": 7,
    "start_time": "2024-06-05T23:02:54.447Z"
   },
   {
    "duration": 13,
    "start_time": "2024-06-05T23:02:54.457Z"
   },
   {
    "duration": 5,
    "start_time": "2024-06-05T23:02:54.473Z"
   },
   {
    "duration": 1168,
    "start_time": "2024-06-05T23:02:54.481Z"
   },
   {
    "duration": 16,
    "start_time": "2024-06-05T23:02:55.651Z"
   },
   {
    "duration": 376,
    "start_time": "2024-06-05T23:02:55.670Z"
   },
   {
    "duration": 52,
    "start_time": "2024-06-05T23:02:56.052Z"
   },
   {
    "duration": 10,
    "start_time": "2024-06-05T23:02:56.132Z"
   },
   {
    "duration": 5,
    "start_time": "2024-06-05T23:02:56.145Z"
   },
   {
    "duration": 6,
    "start_time": "2024-06-05T23:02:56.153Z"
   },
   {
    "duration": 54902,
    "start_time": "2024-06-05T23:02:56.162Z"
   },
   {
    "duration": 3311,
    "start_time": "2024-06-05T23:03:51.067Z"
   },
   {
    "duration": 1860,
    "start_time": "2024-06-05T23:03:54.380Z"
   },
   {
    "duration": 88,
    "start_time": "2024-06-05T23:03:56.244Z"
   },
   {
    "duration": 16,
    "start_time": "2024-06-05T23:03:56.336Z"
   },
   {
    "duration": 82,
    "start_time": "2024-06-05T23:03:56.355Z"
   },
   {
    "duration": 6108,
    "start_time": "2024-06-06T22:29:47.826Z"
   },
   {
    "duration": 52,
    "start_time": "2024-06-06T22:29:53.939Z"
   },
   {
    "duration": 30,
    "start_time": "2024-06-06T22:29:53.994Z"
   },
   {
    "duration": 9,
    "start_time": "2024-06-06T22:29:54.028Z"
   },
   {
    "duration": 20,
    "start_time": "2024-06-06T22:29:54.043Z"
   },
   {
    "duration": 6,
    "start_time": "2024-06-06T22:29:54.066Z"
   },
   {
    "duration": 1077,
    "start_time": "2024-06-06T22:29:54.076Z"
   },
   {
    "duration": 18,
    "start_time": "2024-06-06T22:29:55.159Z"
   },
   {
    "duration": 536,
    "start_time": "2024-06-06T22:29:55.180Z"
   },
   {
    "duration": 60,
    "start_time": "2024-06-06T22:29:55.725Z"
   },
   {
    "duration": 49,
    "start_time": "2024-06-06T22:29:55.790Z"
   },
   {
    "duration": 5,
    "start_time": "2024-06-06T22:29:55.843Z"
   },
   {
    "duration": 9,
    "start_time": "2024-06-06T22:29:55.852Z"
   },
   {
    "duration": 62165,
    "start_time": "2024-06-06T22:29:55.867Z"
   },
   {
    "duration": 3616,
    "start_time": "2024-06-06T22:30:58.037Z"
   },
   {
    "duration": 2022,
    "start_time": "2024-06-06T22:31:01.657Z"
   },
   {
    "duration": 93,
    "start_time": "2024-06-06T22:31:03.683Z"
   },
   {
    "duration": 71,
    "start_time": "2024-06-06T22:31:03.780Z"
   },
   {
    "duration": 85,
    "start_time": "2024-06-06T22:31:03.860Z"
   },
   {
    "duration": 572,
    "start_time": "2024-06-06T22:44:33.388Z"
   },
   {
    "duration": 144,
    "start_time": "2024-06-06T22:45:47.037Z"
   },
   {
    "duration": 1706,
    "start_time": "2024-06-06T22:47:36.690Z"
   },
   {
    "duration": 45,
    "start_time": "2024-06-06T22:47:38.399Z"
   },
   {
    "duration": 20,
    "start_time": "2024-06-06T22:47:38.447Z"
   },
   {
    "duration": 10,
    "start_time": "2024-06-06T22:47:38.471Z"
   },
   {
    "duration": 58,
    "start_time": "2024-06-06T22:47:38.485Z"
   },
   {
    "duration": 14,
    "start_time": "2024-06-06T22:47:38.547Z"
   },
   {
    "duration": 1057,
    "start_time": "2024-06-06T22:47:38.678Z"
   },
   {
    "duration": 24,
    "start_time": "2024-06-06T22:47:39.739Z"
   },
   {
    "duration": 464,
    "start_time": "2024-06-06T22:47:39.767Z"
   },
   {
    "duration": 1418,
    "start_time": "2024-06-06T22:47:40.239Z"
   },
   {
    "duration": 184,
    "start_time": "2024-06-06T22:47:41.661Z"
   },
   {
    "duration": 22,
    "start_time": "2024-06-06T22:47:41.853Z"
   },
   {
    "duration": 5,
    "start_time": "2024-06-06T22:47:41.879Z"
   },
   {
    "duration": 33,
    "start_time": "2024-06-06T22:47:41.890Z"
   },
   {
    "duration": 61521,
    "start_time": "2024-06-06T22:47:41.928Z"
   },
   {
    "duration": 3571,
    "start_time": "2024-06-06T22:48:43.452Z"
   },
   {
    "duration": 2027,
    "start_time": "2024-06-06T22:48:47.027Z"
   },
   {
    "duration": 99,
    "start_time": "2024-06-06T22:48:49.057Z"
   },
   {
    "duration": 72,
    "start_time": "2024-06-06T22:48:49.166Z"
   },
   {
    "duration": 79,
    "start_time": "2024-06-06T22:48:49.251Z"
   },
   {
    "duration": 53,
    "start_time": "2024-06-06T23:05:29.325Z"
   },
   {
    "duration": 1635,
    "start_time": "2024-06-06T23:10:51.215Z"
   },
   {
    "duration": 21258,
    "start_time": "2024-06-06T23:11:29.633Z"
   },
   {
    "duration": 18170,
    "start_time": "2024-06-06T23:11:59.006Z"
   },
   {
    "duration": 1648,
    "start_time": "2024-06-06T23:16:02.987Z"
   },
   {
    "duration": 14,
    "start_time": "2024-06-06T23:16:15.722Z"
   },
   {
    "duration": 900,
    "start_time": "2024-06-06T23:29:53.236Z"
   },
   {
    "duration": 1005,
    "start_time": "2024-06-06T23:30:15.451Z"
   },
   {
    "duration": 2500,
    "start_time": "2024-06-06T23:40:47.888Z"
   },
   {
    "duration": 1594,
    "start_time": "2024-06-06T23:41:00.174Z"
   },
   {
    "duration": 34,
    "start_time": "2024-06-06T23:41:01.773Z"
   },
   {
    "duration": 22,
    "start_time": "2024-06-06T23:41:01.810Z"
   },
   {
    "duration": 8,
    "start_time": "2024-06-06T23:41:01.836Z"
   },
   {
    "duration": 15,
    "start_time": "2024-06-06T23:41:01.848Z"
   },
   {
    "duration": 6,
    "start_time": "2024-06-06T23:41:01.866Z"
   },
   {
    "duration": 877,
    "start_time": "2024-06-06T23:41:01.922Z"
   },
   {
    "duration": 29,
    "start_time": "2024-06-06T23:41:02.802Z"
   },
   {
    "duration": 361,
    "start_time": "2024-06-06T23:41:02.833Z"
   },
   {
    "duration": 1093,
    "start_time": "2024-06-06T23:41:03.199Z"
   },
   {
    "duration": 139,
    "start_time": "2024-06-06T23:41:04.295Z"
   },
   {
    "duration": 14,
    "start_time": "2024-06-06T23:41:04.438Z"
   },
   {
    "duration": 6,
    "start_time": "2024-06-06T23:41:04.455Z"
   },
   {
    "duration": 9,
    "start_time": "2024-06-06T23:41:04.469Z"
   },
   {
    "duration": 56297,
    "start_time": "2024-06-06T23:41:04.483Z"
   },
   {
    "duration": 3339,
    "start_time": "2024-06-06T23:42:00.784Z"
   },
   {
    "duration": 1969,
    "start_time": "2024-06-06T23:42:04.126Z"
   },
   {
    "duration": 107,
    "start_time": "2024-06-06T23:42:06.098Z"
   },
   {
    "duration": 37,
    "start_time": "2024-06-06T23:42:06.209Z"
   },
   {
    "duration": 385,
    "start_time": "2024-06-06T23:42:06.250Z"
   },
   {
    "duration": 19,
    "start_time": "2024-06-06T23:42:06.642Z"
   },
   {
    "duration": 1647,
    "start_time": "2024-06-06T23:43:55.550Z"
   },
   {
    "duration": 44,
    "start_time": "2024-06-06T23:43:57.202Z"
   },
   {
    "duration": 14,
    "start_time": "2024-06-06T23:43:57.249Z"
   },
   {
    "duration": 8,
    "start_time": "2024-06-06T23:43:57.267Z"
   },
   {
    "duration": 46,
    "start_time": "2024-06-06T23:43:57.281Z"
   },
   {
    "duration": 5,
    "start_time": "2024-06-06T23:43:57.330Z"
   },
   {
    "duration": 1437,
    "start_time": "2024-06-06T23:43:57.339Z"
   },
   {
    "duration": 0,
    "start_time": "2024-06-06T23:43:58.781Z"
   },
   {
    "duration": 0,
    "start_time": "2024-06-06T23:43:58.782Z"
   },
   {
    "duration": 0,
    "start_time": "2024-06-06T23:43:58.784Z"
   },
   {
    "duration": 1,
    "start_time": "2024-06-06T23:43:58.786Z"
   },
   {
    "duration": 0,
    "start_time": "2024-06-06T23:43:58.788Z"
   },
   {
    "duration": 0,
    "start_time": "2024-06-06T23:43:58.790Z"
   },
   {
    "duration": 0,
    "start_time": "2024-06-06T23:43:58.793Z"
   },
   {
    "duration": 0,
    "start_time": "2024-06-06T23:43:58.795Z"
   },
   {
    "duration": 0,
    "start_time": "2024-06-06T23:43:58.796Z"
   },
   {
    "duration": 0,
    "start_time": "2024-06-06T23:43:58.797Z"
   },
   {
    "duration": 0,
    "start_time": "2024-06-06T23:43:58.822Z"
   },
   {
    "duration": 0,
    "start_time": "2024-06-06T23:43:58.824Z"
   },
   {
    "duration": 0,
    "start_time": "2024-06-06T23:43:58.827Z"
   },
   {
    "duration": 0,
    "start_time": "2024-06-06T23:43:58.829Z"
   },
   {
    "duration": 863,
    "start_time": "2024-06-06T23:44:06.263Z"
   },
   {
    "duration": 18,
    "start_time": "2024-06-06T23:44:11.915Z"
   },
   {
    "duration": 340,
    "start_time": "2024-06-06T23:45:17.412Z"
   },
   {
    "duration": 1193,
    "start_time": "2024-06-06T23:45:47.058Z"
   },
   {
    "duration": 365,
    "start_time": "2024-06-06T23:53:17.030Z"
   },
   {
    "duration": 50,
    "start_time": "2024-06-06T23:53:33.494Z"
   },
   {
    "duration": 2668,
    "start_time": "2024-06-06T23:53:37.442Z"
   },
   {
    "duration": 322,
    "start_time": "2024-06-07T00:05:45.558Z"
   },
   {
    "duration": 126,
    "start_time": "2024-06-07T00:08:16.511Z"
   },
   {
    "duration": 8,
    "start_time": "2024-06-07T00:11:15.428Z"
   },
   {
    "duration": 1996,
    "start_time": "2024-06-07T00:11:42.283Z"
   },
   {
    "duration": 1980,
    "start_time": "2024-06-07T00:13:47.230Z"
   },
   {
    "duration": 1995,
    "start_time": "2024-06-07T00:13:54.838Z"
   },
   {
    "duration": 42,
    "start_time": "2024-06-07T00:23:05.867Z"
   },
   {
    "duration": 474,
    "start_time": "2024-06-07T00:25:00.790Z"
   },
   {
    "duration": 1111,
    "start_time": "2024-06-07T00:25:33.535Z"
   },
   {
    "duration": 461,
    "start_time": "2024-06-07T00:25:48.882Z"
   },
   {
    "duration": 130,
    "start_time": "2024-06-07T00:26:17.650Z"
   },
   {
    "duration": 20,
    "start_time": "2024-06-07T00:26:32.914Z"
   },
   {
    "duration": 1418,
    "start_time": "2024-06-07T00:29:32.008Z"
   },
   {
    "duration": 95,
    "start_time": "2024-06-07T00:31:51.512Z"
   },
   {
    "duration": 183,
    "start_time": "2024-06-07T00:32:00.864Z"
   },
   {
    "duration": 1349,
    "start_time": "2024-06-07T00:32:24.921Z"
   },
   {
    "duration": 506,
    "start_time": "2024-06-07T00:34:57.438Z"
   },
   {
    "duration": 366,
    "start_time": "2024-06-07T00:35:17.635Z"
   },
   {
    "duration": 347,
    "start_time": "2024-06-07T00:35:31.314Z"
   },
   {
    "duration": 323,
    "start_time": "2024-06-07T00:35:55.765Z"
   },
   {
    "duration": 326,
    "start_time": "2024-06-07T00:36:01.597Z"
   },
   {
    "duration": 320,
    "start_time": "2024-06-07T00:36:08.941Z"
   },
   {
    "duration": 364,
    "start_time": "2024-06-07T00:37:49.600Z"
   },
   {
    "duration": 31,
    "start_time": "2024-06-07T00:45:38.430Z"
   },
   {
    "duration": 5718,
    "start_time": "2024-06-07T16:18:45.300Z"
   },
   {
    "duration": 50,
    "start_time": "2024-06-07T16:18:51.022Z"
   },
   {
    "duration": 15,
    "start_time": "2024-06-07T16:18:52.264Z"
   },
   {
    "duration": 10,
    "start_time": "2024-06-07T16:18:55.081Z"
   },
   {
    "duration": 14,
    "start_time": "2024-06-07T16:18:56.464Z"
   },
   {
    "duration": 5,
    "start_time": "2024-06-07T16:18:59.637Z"
   },
   {
    "duration": 993,
    "start_time": "2024-06-07T16:19:00.906Z"
   },
   {
    "duration": 17,
    "start_time": "2024-06-07T16:19:03.108Z"
   },
   {
    "duration": 367,
    "start_time": "2024-06-07T16:19:04.047Z"
   },
   {
    "duration": 1107,
    "start_time": "2024-06-07T16:19:04.985Z"
   },
   {
    "duration": 55,
    "start_time": "2024-06-07T16:19:16.507Z"
   },
   {
    "duration": 2162,
    "start_time": "2024-06-07T16:19:31.789Z"
   },
   {
    "duration": 6953,
    "start_time": "2024-06-07T16:20:13.284Z"
   },
   {
    "duration": 7978,
    "start_time": "2024-06-07T16:20:46.117Z"
   },
   {
    "duration": 6128,
    "start_time": "2024-06-07T16:21:09.247Z"
   },
   {
    "duration": 1041,
    "start_time": "2024-06-07T16:21:33.119Z"
   },
   {
    "duration": 419,
    "start_time": "2024-06-07T16:21:48.381Z"
   },
   {
    "duration": 5898,
    "start_time": "2024-06-07T16:22:12.757Z"
   },
   {
    "duration": 5853,
    "start_time": "2024-06-07T16:25:31.356Z"
   },
   {
    "duration": 11,
    "start_time": "2024-06-07T16:29:24.348Z"
   },
   {
    "duration": 5,
    "start_time": "2024-06-07T16:29:25.808Z"
   },
   {
    "duration": 9,
    "start_time": "2024-06-07T16:29:28.059Z"
   },
   {
    "duration": 56775,
    "start_time": "2024-06-07T16:29:29.749Z"
   },
   {
    "duration": 3437,
    "start_time": "2024-06-07T16:31:05.478Z"
   },
   {
    "duration": 1882,
    "start_time": "2024-06-07T16:31:17.444Z"
   },
   {
    "duration": 77,
    "start_time": "2024-06-07T16:31:23.729Z"
   },
   {
    "duration": 26,
    "start_time": "2024-06-07T16:31:28.643Z"
   },
   {
    "duration": 50,
    "start_time": "2024-06-07T16:31:32.194Z"
   },
   {
    "duration": 12,
    "start_time": "2024-06-07T16:31:39.094Z"
   },
   {
    "duration": 9,
    "start_time": "2024-06-07T16:32:08.029Z"
   },
   {
    "duration": 54344,
    "start_time": "2024-06-07T16:32:09.579Z"
   },
   {
    "duration": 5173,
    "start_time": "2024-06-07T17:11:39.932Z"
   },
   {
    "duration": 48,
    "start_time": "2024-06-07T17:11:45.108Z"
   },
   {
    "duration": 15,
    "start_time": "2024-06-07T17:11:45.159Z"
   },
   {
    "duration": 24,
    "start_time": "2024-06-07T17:11:45.179Z"
   },
   {
    "duration": 13,
    "start_time": "2024-06-07T17:11:45.206Z"
   },
   {
    "duration": 4,
    "start_time": "2024-06-07T17:11:45.222Z"
   },
   {
    "duration": 963,
    "start_time": "2024-06-07T17:11:45.229Z"
   },
   {
    "duration": 19,
    "start_time": "2024-06-07T17:11:46.206Z"
   },
   {
    "duration": 378,
    "start_time": "2024-06-07T17:11:46.228Z"
   },
   {
    "duration": 1050,
    "start_time": "2024-06-07T17:11:46.612Z"
   },
   {
    "duration": 132,
    "start_time": "2024-06-07T17:11:47.666Z"
   },
   {
    "duration": 2069,
    "start_time": "2024-06-07T17:11:47.803Z"
   },
   {
    "duration": 6392,
    "start_time": "2024-06-07T17:11:49.875Z"
   },
   {
    "duration": 11,
    "start_time": "2024-06-07T17:11:56.271Z"
   },
   {
    "duration": 8,
    "start_time": "2024-06-07T17:11:56.308Z"
   },
   {
    "duration": 16,
    "start_time": "2024-06-07T17:11:56.320Z"
   },
   {
    "duration": 52959,
    "start_time": "2024-06-07T17:11:56.339Z"
   },
   {
    "duration": 3132,
    "start_time": "2024-06-07T17:12:49.302Z"
   },
   {
    "duration": 1776,
    "start_time": "2024-06-07T17:12:52.437Z"
   },
   {
    "duration": 69,
    "start_time": "2024-06-07T17:12:54.216Z"
   },
   {
    "duration": 24,
    "start_time": "2024-06-07T17:12:54.302Z"
   },
   {
    "duration": 283,
    "start_time": "2024-06-07T17:12:54.329Z"
   },
   {
    "duration": 12,
    "start_time": "2024-06-07T17:12:54.615Z"
   },
   {
    "duration": 69,
    "start_time": "2024-06-07T17:16:28.266Z"
   },
   {
    "duration": 13,
    "start_time": "2024-06-07T17:28:25.942Z"
   },
   {
    "duration": 10,
    "start_time": "2024-06-07T17:31:23.809Z"
   },
   {
    "duration": 433,
    "start_time": "2024-06-07T17:31:45.270Z"
   },
   {
    "duration": 2266,
    "start_time": "2024-06-07T17:34:51.337Z"
   },
   {
    "duration": 5310,
    "start_time": "2024-06-10T01:30:23.098Z"
   },
   {
    "duration": 46,
    "start_time": "2024-06-10T01:30:29.922Z"
   },
   {
    "duration": 15,
    "start_time": "2024-06-10T01:30:31.183Z"
   },
   {
    "duration": 7,
    "start_time": "2024-06-10T01:30:32.250Z"
   },
   {
    "duration": 13,
    "start_time": "2024-06-10T01:30:33.184Z"
   },
   {
    "duration": 5,
    "start_time": "2024-06-10T01:30:36.690Z"
   },
   {
    "duration": 907,
    "start_time": "2024-06-10T01:30:37.468Z"
   },
   {
    "duration": 15,
    "start_time": "2024-06-10T01:30:40.151Z"
   },
   {
    "duration": 341,
    "start_time": "2024-06-10T01:30:41.124Z"
   },
   {
    "duration": 1029,
    "start_time": "2024-06-10T01:30:42.902Z"
   },
   {
    "duration": 138,
    "start_time": "2024-06-10T01:30:45.355Z"
   },
   {
    "duration": 1967,
    "start_time": "2024-06-10T01:30:47.688Z"
   },
   {
    "duration": 5671,
    "start_time": "2024-06-10T01:30:49.658Z"
   },
   {
    "duration": 12,
    "start_time": "2024-06-10T01:31:00.691Z"
   },
   {
    "duration": 6,
    "start_time": "2024-06-10T01:31:01.916Z"
   },
   {
    "duration": 8,
    "start_time": "2024-06-10T01:31:47.776Z"
   },
   {
    "duration": 47248,
    "start_time": "2024-06-10T01:33:04.027Z"
   },
   {
    "duration": 2759,
    "start_time": "2024-06-10T01:34:12.287Z"
   },
   {
    "duration": 47114,
    "start_time": "2024-06-10T01:35:26.122Z"
   },
   {
    "duration": 468,
    "start_time": "2024-06-10T01:36:13.239Z"
   },
   {
    "duration": 1574,
    "start_time": "2024-06-10T01:40:03.205Z"
   },
   {
    "duration": 73,
    "start_time": "2024-06-10T01:40:17.460Z"
   },
   {
    "duration": 50,
    "start_time": "2024-06-10T01:41:09.158Z"
   },
   {
    "duration": 18,
    "start_time": "2024-06-10T01:41:10.603Z"
   },
   {
    "duration": 133,
    "start_time": "2024-06-10T01:41:50.075Z"
   },
   {
    "duration": 12,
    "start_time": "2024-06-10T01:41:53.905Z"
   },
   {
    "duration": 1876,
    "start_time": "2024-06-10T01:44:26.118Z"
   },
   {
    "duration": 43,
    "start_time": "2024-06-10T01:44:27.998Z"
   },
   {
    "duration": 15,
    "start_time": "2024-06-10T01:44:28.044Z"
   },
   {
    "duration": 8,
    "start_time": "2024-06-10T01:44:28.062Z"
   },
   {
    "duration": 17,
    "start_time": "2024-06-10T01:44:28.107Z"
   },
   {
    "duration": 9,
    "start_time": "2024-06-10T01:44:28.127Z"
   },
   {
    "duration": 989,
    "start_time": "2024-06-10T01:44:28.140Z"
   },
   {
    "duration": 21,
    "start_time": "2024-06-10T01:44:29.131Z"
   },
   {
    "duration": 388,
    "start_time": "2024-06-10T01:44:29.156Z"
   },
   {
    "duration": 1085,
    "start_time": "2024-06-10T01:44:29.546Z"
   },
   {
    "duration": 52,
    "start_time": "2024-06-10T01:44:30.634Z"
   },
   {
    "duration": 2045,
    "start_time": "2024-06-10T01:44:30.689Z"
   },
   {
    "duration": 5612,
    "start_time": "2024-06-10T01:44:32.736Z"
   },
   {
    "duration": 11,
    "start_time": "2024-06-10T01:44:38.354Z"
   },
   {
    "duration": 5,
    "start_time": "2024-06-10T01:44:38.368Z"
   },
   {
    "duration": 38,
    "start_time": "2024-06-10T01:44:38.376Z"
   },
   {
    "duration": 46760,
    "start_time": "2024-06-10T01:44:38.416Z"
   },
   {
    "duration": 2869,
    "start_time": "2024-06-10T01:45:25.179Z"
   },
   {
    "duration": 1621,
    "start_time": "2024-06-10T01:45:28.051Z"
   },
   {
    "duration": 83,
    "start_time": "2024-06-10T01:45:29.677Z"
   },
   {
    "duration": 148,
    "start_time": "2024-06-10T01:45:29.766Z"
   },
   {
    "duration": 13,
    "start_time": "2024-06-10T01:45:29.921Z"
   },
   {
    "duration": 868,
    "start_time": "2024-06-10T01:45:29.938Z"
   },
   {
    "duration": 12,
    "start_time": "2024-06-10T01:45:30.809Z"
   },
   {
    "duration": 2757,
    "start_time": "2024-06-10T01:45:43.712Z"
   },
   {
    "duration": 12,
    "start_time": "2024-06-10T01:57:49.311Z"
   },
   {
    "duration": 12,
    "start_time": "2024-06-10T01:59:34.622Z"
   },
   {
    "duration": 12,
    "start_time": "2024-06-10T01:59:57.271Z"
   },
   {
    "duration": 11,
    "start_time": "2024-06-10T02:03:41.388Z"
   },
   {
    "duration": 12,
    "start_time": "2024-06-10T02:04:01.036Z"
   },
   {
    "duration": 12,
    "start_time": "2024-06-10T02:04:07.728Z"
   }
  ],
  "kernelspec": {
   "display_name": "Python 3 (ipykernel)",
   "language": "python",
   "name": "python3"
  },
  "language_info": {
   "codemirror_mode": {
    "name": "ipython",
    "version": 3
   },
   "file_extension": ".py",
   "mimetype": "text/x-python",
   "name": "python",
   "nbconvert_exporter": "python",
   "pygments_lexer": "ipython3",
   "version": "3.9.19"
  },
  "toc": {
   "base_numbering": 1,
   "nav_menu": {},
   "number_sections": true,
   "sideBar": true,
   "skip_h1_title": true,
   "title_cell": "Table of Contents",
   "title_sidebar": "Contents",
   "toc_cell": false,
   "toc_position": {
    "height": "calc(100% - 180px)",
    "left": "10px",
    "top": "150px",
    "width": "219px"
   },
   "toc_section_display": true,
   "toc_window_display": true
  }
 },
 "nbformat": 4,
 "nbformat_minor": 2
}
